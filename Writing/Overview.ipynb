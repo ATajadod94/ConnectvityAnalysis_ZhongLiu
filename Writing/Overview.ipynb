{
 "cells": [
  {
   "cell_type": "markdown",
   "metadata": {},
   "source": [
    "## Overview\n",
    "\n",
    "This github contains the code use for analysis conducted at Baycrest research Hosptial under the guidance of [Dr.Zhongxu Liu](http://psych.utoronto.ca/Neuropsychologylab/zhongxu.html) . Most of the code, if not adapted from Dr.Liu's source material are written based on his direct direction. \n",
    "\n",
    "## Code\n",
    "\n",
    "The code is written in Python, Matlab and bash language. \n",
    "\n",
    "### Goals: \n",
    "\n",
    "The aim of this project is to perform functional connectitivty analysis on the Oculomotor and memory system. The data used is the same as that of ..... . No data available on this repo due to obvious ethical cocerns. \n",
    "\n",
    "## Steps \n",
    "\n",
    "### 1. [PreProcess](../code/1. PreProcess)\n",
    "\n",
    "1.1 In the first place, the files had to be converted to .nii formats"
   ]
  },
  {
   "cell_type": "code",
   "execution_count": null,
   "metadata": {},
   "outputs": [],
   "source": []
  }
 ],
 "metadata": {
  "kernelspec": {
   "display_name": "Python 3",
   "language": "python",
   "name": "python3"
  },
  "language_info": {
   "codemirror_mode": {
    "name": "ipython",
    "version": 3
   },
   "file_extension": ".py",
   "mimetype": "text/x-python",
   "name": "python",
   "nbconvert_exporter": "python",
   "pygments_lexer": "ipython3",
   "version": "3.6.4"
  }
 },
 "nbformat": 4,
 "nbformat_minor": 2
}
