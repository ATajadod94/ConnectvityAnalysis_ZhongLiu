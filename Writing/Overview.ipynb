{
 "cells": [
  {
   "cell_type": "markdown",
   "metadata": {},
   "source": [
    "## Overview\n",
    "\n",
    "This github contains the code use for analysis conducted at Baycrest research Hosptial under the guidance of [Dr.Zhongxu Liu](http://psych.utoronto.ca/Neuropsychologylab/zhongxu.html) . Most of the code, if not adapted from Dr.Liu's source material are written based on his direct direction. \n",
    "\n",
    "## Code\n",
    "\n",
    "The code is written in Python, Matlab and bash language. Throughout the project it is assumed that the subject's data is in the same folder as The script folder. Such that from the main project directory, Data/Raw_data finds the raw data files.\n",
    "\n",
    "The code relies heavily on : \n",
    "\n",
    "* [SPM Toolbox](http://www.fil.ion.ucl.ac.uk/spm/) \n",
    "* [Conn Toolbox](https://www.nitrc.org/projects/conn)\n",
    "* [Freesurefer](https://surfer.nmr.mgh.harvard.edu/)\n",
    "\n",
    "### Goals: \n",
    "\n",
    "The aim of this project is to perform functional connectitivty analysis on the Oculomotor and memory system. The data used is the same as that of Dr.Liu's phd projct (link) . No data available on this repo due to obvious ethical cocerns. \n",
    "\n",
    "## Steps \n",
    "\n",
    "### 0. [Setup](../Code/0. Setup)\n",
    "\n",
    "[0.1](../Code/0. Setup/StructCreating.m) Renaming Folders : The folder names produced based on the trial and block order were changed to reflect the name of the condition as shown below . A structure called mysubject was created to retain the name changes and be used later for analysis."
   ]
  },
  {
   "cell_type": "code",
   "execution_count": 6,
   "metadata": {},
   "outputs": [],
   "source": [
    "RunNames =   {  'preencoding_rest'\n",
    "                'encoding_fam1'\n",
    "                'encoding_fam2'\n",
    "                'post_encoding_rest_fam'\n",
    "                'encoding_nonfam1'\n",
    "                'encoding_nonfam2'\n",
    "                'post_encoding_rest_nonfam'\n",
    "                'localizer_task'\n",
    "                'thinkback'\n",
    "                'thinkahead' };\n",
    "\n",
    "OrgFileNames = {    '4_OB-AX  ep2d_bold ~184~Pre'\n",
    "                    '5_OB-AX  ep2d_bold ~ 290'\n",
    "                    '6_OB-AX  ep2d_bold ~ 290'\n",
    "                    '7_OB-AX  ep2d_bold ~184~Post 1'\n",
    "                    '8_OB-AX  ep2d_bold ~ 290'\n",
    "                    '9_OB-AX  ep2d_bold ~ 290'\n",
    "                    '10_OB-AX  ep2d_bold ~184~Post 2'\n",
    "                    '11_OB-AX  ep2d_bold ~ 292'\n",
    "                    '12_OB-AX  ep2d_bold ~184~Post 3 ~Task'\n",
    "                    '13_OB-AX  ep2d_bold ~184~Post 4~Task'\n",
    "                    '3_T1 MPRAGE OB-AXIAL'\n",
    "                };"
   ]
  },
  {
   "cell_type": "markdown",
   "metadata": {},
   "source": [
    "### 1. [PreProcess](../Code/1. PreProcess)  \n",
    "\n",
    "#### This portion of the document is adapted based on a document written up written by [Amir zarie](https://www.linkedin.com/in/amir-zarie-9807b4aa/) \n",
    "\n",
    "[1.1](../Code/1. PreProcess/1.1 - Diciom to Nifi/DicomToNifti_LoopAllSubjects.m)  Dicom To Nifit: the files had to be converted to .nii formats. This was done in Matlab, using SPM. \n",
    "\n",
    "1.2 ReOrientation: The Anantomical images for each subject were reoriented using SPM. For all Subjects, the (0,0) point was adjusted as to reflect the hippocampus\n",
    "\n",
    "[1.3](../Code/1. PreProcess/1.8 Spm_Preprocess) [Spm_PreProcess](../Code/1. PreProcess/1.8 Spm_Preprocess/PostOrgLoop.m) : The data was preprocessed using the SPM toolbox. The 6 preprocessign steps were done through one spm batch. The result data from each step was saved and specified with prefixes inidcated below. A short explanation and the name of the steps is available here. \n",
    "    \n",
    "    \n",
    "    1.3.1 Time Slicing : The time delay is adjusted for each participant. Prefix 'a'\n",
    "\n",
    "    1.3.2 Realign And Estimate: The brain data images were realigned. Prefix 'r'\n",
    " \n",
    "    1.3.3 Coregister: This step is done to superimpose the anatomy and functional images onto one another. The anatomical image was used as the mean.  Prefix 'e'\n",
    "    \n",
    "    1.3.4 Spatial Preprocess \n",
    "\n",
    "    1.3.5 Normalize\n",
    "\n",
    "    1.3.6 Smooth\n",
    "\n",
    "\n"
   ]
  },
  {
   "cell_type": "markdown",
   "metadata": {},
   "source": [
    "### 2. [FirstLevel Analysis](../Code/2. FirstLevel) \n",
    "\n",
    "First level analysis were performed on the smooth data, sepertatly on each subject for the Task conditions and localization conditions. This step was once again automated via one spm batch. A short explanation and the name of the steps is available here.  Sepertate scripts were create to reflect the change in the contrasts for Localizer and Task trials as well as analysis done in Native and MNI steps.\n",
    "    \n",
    "\n",
    " 2.1: Behaviorual condition files were used to create the regressors. Previously avaialble condition files were used to set the onsets, and condition details for the data.\n",
    " \n",
    " 2.2: Model Estimation: The Classic spm method was used for estimating the model . Prefix 'e'\n",
    " \n",
    " 2.3: Contrast manager: Regression data were created and saved using the specified contrats below. \n",
    "\n"
   ]
  },
  {
   "cell_type": "code",
   "execution_count": null,
   "metadata": {},
   "outputs": [],
   "source": [
    "contrastnames = {'facehouse','scrambled','face-scrambled','fam1','scramb1','fam2','scramb2','nonfam1','scramb3','nonfam2','scramb4'};\n",
    "contrastvects = {[1],[0,1],[1,-1],[1],[0,1],[zeros(1,8),1],[zeros(1,8),0,1],...\n",
    "    [zeros(1,8),zeros(1,8),1],[zeros(1,8),zeros(1,8),0,1],...\n",
    "    [zeros(1,8),zeros(1,8),zeros(1,8),1],[zeros(1,8),zeros(1,8),zeros(1,8),0,1]};"
   ]
  },
  {
   "cell_type": "markdown",
   "metadata": {},
   "source": [
    "### 3. [Freesurfer](../Code/3. FreeSurfer)\n",
    "\n",
    "Shell scripts were used in combination with freesurfer's toolbox. Recon-all function was used to create labels for all subjects in the fs space. \n",
    "\n",
    "### 4. [Creating labels](../Code/4. Label_Code)\n",
    "\n",
    "   4.1: Adopting code provided by Glasser and Griffis (links) labels were created for each indivual subject. Code for these steps is not available on github as of yet as we do not have the author's explicit premission. \n",
    "    \n",
    "   4.2: [Creating labels](../Code/4. Label_Code/Segmenting) : In this step, python, matlab and tcl code was uesd. \n",
    "    \n",
    "    we cut the left and right , Hippocampus, EntoRhinal, Parahippocampius and Fusiform of the participants into different segments of the same size. To do so, the subject's mri image was imported and the data was converted to the real world cordinates. Thereafter, the normal plane for reach region of each participant was automatically calcualtedand used to to cut the specified region into the number of parts indicated previously by Dr.Liu. The created labels were saved to be used later as ROI's in the analysis\n",
    "    \n",
    "  4.3: [Mapping Anatomical ROI's to functional images](../Code/4. Label_Code/4.3 Mapping) : In this step was are using Conn's connectivty toolbox to map the calculated ROI from the previous steps to each Subject's functional data. Taking advantage of existing processes in Conn's toolbox, further cleaning steps were performed on the confound variables and "
   ]
  },
  {
   "cell_type": "markdown",
   "metadata": {},
   "source": []
  },
  {
   "cell_type": "code",
   "execution_count": null,
   "metadata": {},
   "outputs": [],
   "source": []
  }
 ],
 "metadata": {
  "kernelspec": {
   "display_name": "Python 3",
   "language": "python",
   "name": "python3"
  },
  "language_info": {
   "codemirror_mode": {
    "name": "ipython",
    "version": 3
   },
   "file_extension": ".py",
   "mimetype": "text/x-python",
   "name": "python",
   "nbconvert_exporter": "python",
   "pygments_lexer": "ipython3",
   "version": "3.6.4"
  }
 },
 "nbformat": 4,
 "nbformat_minor": 2
}
