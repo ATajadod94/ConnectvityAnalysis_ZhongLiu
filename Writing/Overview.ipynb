{
 "cells": [
  {
   "cell_type": "markdown",
   "metadata": {},
   "source": [
    "## Overview\n",
    "\n",
    "This github contains the code use for analysis conducted at Baycrest research Hosptial under the guidance of [Dr.Zhongxu Liu](http://psych.utoronto.ca/Neuropsychologylab/zhongxu.html) . Most of the code, if not adapted from Dr.Liu's source material are written based on his direct direction. \n",
    "\n",
    "## Code\n",
    "\n",
    "The code is written in Python, Matlab and bash language. Throughout the project it is assumed that the subject's data is in the same folder as The script folder. Such that from the main project directory, Data/Raw_data finds the raw data files.\n",
    "\n",
    "The code relies heavily on : \n",
    "\n",
    "* [SPM Toolbox](http://www.fil.ion.ucl.ac.uk/spm/) \n",
    "* [Conn Toolbox](https://www.nitrc.org/projects/conn)\n",
    "\n",
    "### Goals: \n",
    "\n",
    "The aim of this project is to perform functional connectitivty analysis on the Oculomotor and memory system. The data used is the same as that of Dr.Liu's phd projct (link) . No data available on this repo due to obvious ethical cocerns. \n",
    "\n",
    "## Steps \n",
    "\n",
    "### 1. [PreProcess](../code/1. PreProcess)  \n",
    "\n",
    "#### This portion of the document relies heavily and is adapted on the code write up written by [Amir zarie](https://www.linkedin.com/in/amir-zarie-9807b4aa/) \n",
    "\n",
    "[1.1](../Code/1. PreProcess/1.1 - Diciom to Nifi/DicomToNifti_LoopAllSubjects.m)  Dicom To Nifit:  the files had to be converted to .nii formats. This was done in Matlab, using SPM. \n",
    "\n",
    "1.2. Reorientation :\n",
    "\n"
   ]
  },
  {
   "cell_type": "code",
   "execution_count": null,
   "metadata": {},
   "outputs": [],
   "source": []
  }
 ],
 "metadata": {
  "kernelspec": {
   "display_name": "Python 3",
   "language": "python",
   "name": "python3"
  },
  "language_info": {
   "codemirror_mode": {
    "name": "ipython",
    "version": 3
   },
   "file_extension": ".py",
   "mimetype": "text/x-python",
   "name": "python",
   "nbconvert_exporter": "python",
   "pygments_lexer": "ipython3",
   "version": "3.6.4"
  }
 },
 "nbformat": 4,
 "nbformat_minor": 2
}
